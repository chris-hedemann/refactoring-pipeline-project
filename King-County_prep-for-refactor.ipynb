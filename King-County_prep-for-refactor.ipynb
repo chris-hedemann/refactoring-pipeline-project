{
 "cells": [
  {
   "attachments": {},
   "cell_type": "markdown",
   "metadata": {},
   "source": [
    "## Notebook cleaned for refactoring\n",
    "\n",
    "* \n",
    "* Kept data cleaning and feature engineering, but \n",
    "* Removed all machine learning, sklearn and visualisiation aspects \n"
   ]
  },
  {
   "cell_type": "code",
   "execution_count": 4,
   "metadata": {},
   "outputs": [],
   "source": [
    "# Basic imports\n",
    "import pandas as pd\n",
    "import numpy as np"
   ]
  },
  {
   "cell_type": "code",
   "execution_count": 5,
   "metadata": {},
   "outputs": [],
   "source": [
    "# Loading of the dataset via pandas\n",
    "kc_data = pd.read_csv(\"data/King_County_House_prices_dataset.csv\")"
   ]
  },
  {
   "attachments": {},
   "cell_type": "markdown",
   "metadata": {},
   "source": [
    "### Data cleaning\n"
   ]
  },
  {
   "attachments": {},
   "cell_type": "markdown",
   "metadata": {},
   "source": [
    "The .info() output is useful for writing the data validation model, so let's keep it in here for the time being "
   ]
  },
  {
   "cell_type": "code",
   "execution_count": 6,
   "metadata": {},
   "outputs": [
    {
     "name": "stdout",
     "output_type": "stream",
     "text": [
      "<class 'pandas.core.frame.DataFrame'>\n",
      "RangeIndex: 21597 entries, 0 to 21596\n",
      "Data columns (total 21 columns):\n",
      " #   Column         Non-Null Count  Dtype  \n",
      "---  ------         --------------  -----  \n",
      " 0   id             21597 non-null  int64  \n",
      " 1   date           21597 non-null  object \n",
      " 2   price          21597 non-null  float64\n",
      " 3   bedrooms       21597 non-null  int64  \n",
      " 4   bathrooms      21597 non-null  float64\n",
      " 5   sqft_living    21597 non-null  int64  \n",
      " 6   sqft_lot       21597 non-null  int64  \n",
      " 7   floors         21597 non-null  float64\n",
      " 8   waterfront     19221 non-null  float64\n",
      " 9   view           21534 non-null  float64\n",
      " 10  condition      21597 non-null  int64  \n",
      " 11  grade          21597 non-null  int64  \n",
      " 12  sqft_above     21597 non-null  int64  \n",
      " 13  sqft_basement  21597 non-null  object \n",
      " 14  yr_built       21597 non-null  int64  \n",
      " 15  yr_renovated   17755 non-null  float64\n",
      " 16  zipcode        21597 non-null  int64  \n",
      " 17  lat            21597 non-null  float64\n",
      " 18  long           21597 non-null  float64\n",
      " 19  sqft_living15  21597 non-null  int64  \n",
      " 20  sqft_lot15     21597 non-null  int64  \n",
      "dtypes: float64(8), int64(11), object(2)\n",
      "memory usage: 3.5+ MB\n"
     ]
    }
   ],
   "source": [
    "kc_data.info()"
   ]
  },
  {
   "cell_type": "code",
   "execution_count": 36,
   "metadata": {},
   "outputs": [
    {
     "ename": "ImportError",
     "evalue": "cannot import name 'BaseClass' from 'pydantic' (/Users/bromethius/neuefische/refactoring-pipeline-project/.venv/lib/python3.11/site-packages/pydantic/__init__.py)",
     "output_type": "error",
     "traceback": [
      "\u001b[0;31m---------------------------------------------------------------------------\u001b[0m",
      "\u001b[0;31mImportError\u001b[0m                               Traceback (most recent call last)",
      "Cell \u001b[0;32mIn[36], line 2\u001b[0m\n\u001b[1;32m      1\u001b[0m \u001b[39m## REF\u001b[39;00m\n\u001b[0;32m----> 2\u001b[0m \u001b[39mfrom\u001b[39;00m \u001b[39mpydantic\u001b[39;00m \u001b[39mimport\u001b[39;00m BaseClass\n",
      "\u001b[0;31mImportError\u001b[0m: cannot import name 'BaseClass' from 'pydantic' (/Users/bromethius/neuefische/refactoring-pipeline-project/.venv/lib/python3.11/site-packages/pydantic/__init__.py)"
     ]
    }
   ],
   "source": [
    "# ## REF\n",
    "# from pydantic import BaseModel, int\n",
    "\n",
    "# class House(BaseModel):\n",
    "#     id: int\n",
    "#     date: # Date stuff\n",
    "#     price: float\n",
    "#     bedrooms: int\n",
    "#     sqft_living: int\n",
    "#     sqft_lot: int\n",
    "#     floors: float\n",
    "#     waterfront: int # change to integer"
   ]
  },
  {
   "attachments": {},
   "cell_type": "markdown",
   "metadata": {},
   "source": [
    "**Extreme values**\n",
    "\n",
    "* Here the data scientist removed extreme buildings with bedrooms >> bathrooms\n",
    "* Suggest a rule to cope with other extreme properties:\n",
    "    * bedrooms / bathrooms > 10"
   ]
  },
  {
   "cell_type": "code",
   "execution_count": 10,
   "metadata": {},
   "outputs": [
    {
     "data": {
      "text/html": [
       "<div>\n",
       "<style scoped>\n",
       "    .dataframe tbody tr th:only-of-type {\n",
       "        vertical-align: middle;\n",
       "    }\n",
       "\n",
       "    .dataframe tbody tr th {\n",
       "        vertical-align: top;\n",
       "    }\n",
       "\n",
       "    .dataframe thead th {\n",
       "        text-align: right;\n",
       "    }\n",
       "</style>\n",
       "<table border=\"1\" class=\"dataframe\">\n",
       "  <thead>\n",
       "    <tr style=\"text-align: right;\">\n",
       "      <th></th>\n",
       "      <th>id</th>\n",
       "      <th>date</th>\n",
       "      <th>price</th>\n",
       "      <th>bedrooms</th>\n",
       "      <th>bathrooms</th>\n",
       "      <th>sqft_living</th>\n",
       "      <th>sqft_lot</th>\n",
       "      <th>floors</th>\n",
       "      <th>waterfront</th>\n",
       "      <th>view</th>\n",
       "      <th>...</th>\n",
       "      <th>grade</th>\n",
       "      <th>sqft_above</th>\n",
       "      <th>sqft_basement</th>\n",
       "      <th>yr_built</th>\n",
       "      <th>yr_renovated</th>\n",
       "      <th>zipcode</th>\n",
       "      <th>lat</th>\n",
       "      <th>long</th>\n",
       "      <th>sqft_living15</th>\n",
       "      <th>sqft_lot15</th>\n",
       "    </tr>\n",
       "  </thead>\n",
       "  <tbody>\n",
       "    <tr>\n",
       "      <th>15856</th>\n",
       "      <td>2402100895</td>\n",
       "      <td>6/25/2014</td>\n",
       "      <td>640000.0</td>\n",
       "      <td>33</td>\n",
       "      <td>1.75</td>\n",
       "      <td>1620</td>\n",
       "      <td>6000</td>\n",
       "      <td>1.0</td>\n",
       "      <td>0.0</td>\n",
       "      <td>0.0</td>\n",
       "      <td>...</td>\n",
       "      <td>7</td>\n",
       "      <td>1040</td>\n",
       "      <td>580.0</td>\n",
       "      <td>1947</td>\n",
       "      <td>0.0</td>\n",
       "      <td>98103</td>\n",
       "      <td>47.6878</td>\n",
       "      <td>-122.331</td>\n",
       "      <td>1330</td>\n",
       "      <td>4700</td>\n",
       "    </tr>\n",
       "  </tbody>\n",
       "</table>\n",
       "<p>1 rows × 21 columns</p>\n",
       "</div>"
      ],
      "text/plain": [
       "               id       date     price  bedrooms  bathrooms  sqft_living  \\\n",
       "15856  2402100895  6/25/2014  640000.0        33       1.75         1620   \n",
       "\n",
       "       sqft_lot  floors  waterfront  view  ...  grade  sqft_above  \\\n",
       "15856      6000     1.0         0.0   0.0  ...      7        1040   \n",
       "\n",
       "       sqft_basement yr_built  yr_renovated  zipcode      lat     long  \\\n",
       "15856          580.0     1947           0.0    98103  47.6878 -122.331   \n",
       "\n",
       "       sqft_living15  sqft_lot15  \n",
       "15856           1330        4700  \n",
       "\n",
       "[1 rows x 21 columns]"
      ]
     },
     "execution_count": 10,
     "metadata": {},
     "output_type": "execute_result"
    }
   ],
   "source": [
    "# Output of the line in which the condition \"bedrooms = 33\" is present.\n",
    "# kc_data.query('bedrooms == 33')"
   ]
  },
  {
   "cell_type": "code",
   "execution_count": 11,
   "metadata": {},
   "outputs": [],
   "source": [
    "# kc_data.drop(15856, axis=0, inplace=True)"
   ]
  },
  {
   "cell_type": "code",
   "execution_count": 22,
   "metadata": {},
   "outputs": [],
   "source": [
    "## REF: Make the requirements a bit stricter, 5 bedrooms per bathroom is too few bathrooms\n",
    "## More than 2 bathrooms per bedroom is too many\n",
    "\n",
    "from sklearn.base import BaseEstimator, TransformerMixin\n",
    "\n",
    "class BathBedTransformer(BaseEstimator, TransformerMixin):\n",
    "    def fit(self, X, y=None):\n",
    "        return self\n",
    "    \n",
    "    def transform(self, X, y=None):\n",
    "        X = X.copy()\n",
    "        ratio = X.bedrooms / X.bathrooms\n",
    "        idx = X.index[(ratio >= 5. ) | (ratio < 0.5 )]\n",
    "\n",
    "        X.drop(index=idx, inplace=True)\n",
    "\n",
    "        return X\n"
   ]
  },
  {
   "cell_type": "code",
   "execution_count": 25,
   "metadata": {},
   "outputs": [],
   "source": [
    "bathbedratio_transformed = BathBedTransformer()\n",
    "kc_data_cleaned = bathbedratio_transformed.fit_transform(kc_data)"
   ]
  },
  {
   "cell_type": "code",
   "execution_count": 26,
   "metadata": {},
   "outputs": [
    {
     "name": "stdout",
     "output_type": "stream",
     "text": [
      "<class 'pandas.core.frame.DataFrame'>\n",
      "Index: 21536 entries, 0 to 21596\n",
      "Data columns (total 21 columns):\n",
      " #   Column         Non-Null Count  Dtype  \n",
      "---  ------         --------------  -----  \n",
      " 0   id             21536 non-null  int64  \n",
      " 1   date           21536 non-null  object \n",
      " 2   price          21536 non-null  float64\n",
      " 3   bedrooms       21536 non-null  int64  \n",
      " 4   bathrooms      21536 non-null  float64\n",
      " 5   sqft_living    21536 non-null  int64  \n",
      " 6   sqft_lot       21536 non-null  int64  \n",
      " 7   floors         21536 non-null  float64\n",
      " 8   waterfront     19170 non-null  float64\n",
      " 9   view           21473 non-null  float64\n",
      " 10  condition      21536 non-null  int64  \n",
      " 11  grade          21536 non-null  int64  \n",
      " 12  sqft_above     21536 non-null  int64  \n",
      " 13  sqft_basement  21536 non-null  object \n",
      " 14  yr_built       21536 non-null  int64  \n",
      " 15  yr_renovated   17705 non-null  float64\n",
      " 16  zipcode        21536 non-null  int64  \n",
      " 17  lat            21536 non-null  float64\n",
      " 18  long           21536 non-null  float64\n",
      " 19  sqft_living15  21536 non-null  int64  \n",
      " 20  sqft_lot15     21536 non-null  int64  \n",
      "dtypes: float64(8), int64(11), object(2)\n",
      "memory usage: 3.6+ MB\n"
     ]
    }
   ],
   "source": [
    "kc_data_cleaned.info()"
   ]
  },
  {
   "attachments": {},
   "cell_type": "markdown",
   "metadata": {},
   "source": [
    "**Remove \"?\" in \"sqft_basement**\n",
    "\n",
    "\n",
    "* Notice the DS replaced first cleaned \"sqft_basement\", THEN replaced it by imputing from two other features\n",
    "* Which approach is robuster? Check and just do one or the other"
   ]
  },
  {
   "cell_type": "code",
   "execution_count": 18,
   "metadata": {},
   "outputs": [],
   "source": [
    "# We replace \"?\" with Nan\n",
    "kc_data['sqft_basement'] = kc_data['sqft_basement'].replace('?', np.NaN)\n",
    "# And we change the dtype of the column \"sqft_basement\" to float\n",
    "kc_data['sqft_basement'] = kc_data['sqft_basement'].astype(float)\n",
    "\n",
    "# RFT: Now calling this imputing \"sqft_basement2\"\n",
    "kc_data.eval('sqft_basement2 = sqft_living - sqft_above', inplace=True)"
   ]
  },
  {
   "cell_type": "code",
   "execution_count": 19,
   "metadata": {},
   "outputs": [
    {
     "name": "stdout",
     "output_type": "stream",
     "text": [
      "Cleaning and type conversion: 2.1 % missing\n",
      "Imputing: 0.0 % missing\n"
     ]
    }
   ],
   "source": [
    "# RFT: Check missings from both approaches \n",
    "print(f'Cleaning and type conversion: {round(kc_data.sqft_basement.isna().mean() * 100,2)} % missing')\n",
    "print(f'Imputing: {round(kc_data.sqft_basement2.isna().mean() * 100,2)} % missing')\n"
   ]
  },
  {
   "attachments": {},
   "cell_type": "markdown",
   "metadata": {},
   "source": [
    "So imputing seems more successful. Are the data fundamentally different?"
   ]
  },
  {
   "cell_type": "code",
   "execution_count": 27,
   "metadata": {},
   "outputs": [
    {
     "data": {
      "text/html": [
       "<div>\n",
       "<style scoped>\n",
       "    .dataframe tbody tr th:only-of-type {\n",
       "        vertical-align: middle;\n",
       "    }\n",
       "\n",
       "    .dataframe tbody tr th {\n",
       "        vertical-align: top;\n",
       "    }\n",
       "\n",
       "    .dataframe thead th {\n",
       "        text-align: right;\n",
       "    }\n",
       "</style>\n",
       "<table border=\"1\" class=\"dataframe\">\n",
       "  <thead>\n",
       "    <tr style=\"text-align: right;\">\n",
       "      <th></th>\n",
       "      <th>sqft_basement2</th>\n",
       "      <th>sqft_basement</th>\n",
       "    </tr>\n",
       "  </thead>\n",
       "  <tbody>\n",
       "    <tr>\n",
       "      <th>0</th>\n",
       "      <td>0</td>\n",
       "      <td>0.0</td>\n",
       "    </tr>\n",
       "    <tr>\n",
       "      <th>1</th>\n",
       "      <td>400</td>\n",
       "      <td>400.0</td>\n",
       "    </tr>\n",
       "    <tr>\n",
       "      <th>2</th>\n",
       "      <td>0</td>\n",
       "      <td>0.0</td>\n",
       "    </tr>\n",
       "    <tr>\n",
       "      <th>3</th>\n",
       "      <td>910</td>\n",
       "      <td>910.0</td>\n",
       "    </tr>\n",
       "    <tr>\n",
       "      <th>4</th>\n",
       "      <td>0</td>\n",
       "      <td>0.0</td>\n",
       "    </tr>\n",
       "    <tr>\n",
       "      <th>...</th>\n",
       "      <td>...</td>\n",
       "      <td>...</td>\n",
       "    </tr>\n",
       "    <tr>\n",
       "      <th>21592</th>\n",
       "      <td>0</td>\n",
       "      <td>0.0</td>\n",
       "    </tr>\n",
       "    <tr>\n",
       "      <th>21593</th>\n",
       "      <td>0</td>\n",
       "      <td>0.0</td>\n",
       "    </tr>\n",
       "    <tr>\n",
       "      <th>21594</th>\n",
       "      <td>0</td>\n",
       "      <td>0.0</td>\n",
       "    </tr>\n",
       "    <tr>\n",
       "      <th>21595</th>\n",
       "      <td>0</td>\n",
       "      <td>0.0</td>\n",
       "    </tr>\n",
       "    <tr>\n",
       "      <th>21596</th>\n",
       "      <td>0</td>\n",
       "      <td>0.0</td>\n",
       "    </tr>\n",
       "  </tbody>\n",
       "</table>\n",
       "<p>21596 rows × 2 columns</p>\n",
       "</div>"
      ],
      "text/plain": [
       "       sqft_basement2  sqft_basement\n",
       "0                   0            0.0\n",
       "1                 400          400.0\n",
       "2                   0            0.0\n",
       "3                 910          910.0\n",
       "4                   0            0.0\n",
       "...               ...            ...\n",
       "21592               0            0.0\n",
       "21593               0            0.0\n",
       "21594               0            0.0\n",
       "21595               0            0.0\n",
       "21596               0            0.0\n",
       "\n",
       "[21596 rows x 2 columns]"
      ]
     },
     "execution_count": 27,
     "metadata": {},
     "output_type": "execute_result"
    }
   ],
   "source": [
    "kc_data[['sqft_basement2', 'sqft_basement']]"
   ]
  },
  {
   "cell_type": "code",
   "execution_count": 32,
   "metadata": {},
   "outputs": [
    {
     "name": "stdout",
     "output_type": "stream",
     "text": [
      "Mean square percentage error of imputed sqft_basement2 versus cleaned sqft_basement\n"
     ]
    },
    {
     "data": {
      "text/plain": [
       "0.0"
      ]
     },
     "execution_count": 32,
     "metadata": {},
     "output_type": "execute_result"
    }
   ],
   "source": [
    "print(\"Mean square percentage error of imputed sqft_basement2 versus cleaned sqft_basement\")\n",
    "np.sum(np.sqrt((kc_data.sqft_basement2 - kc_data.sqft_basement)**2) ) / kc_data.sqft_basement.sum() * 100"
   ]
  },
  {
   "attachments": {},
   "cell_type": "markdown",
   "metadata": {},
   "source": [
    "OK, So we will skip the Data scientist's cleaning step for sqft_basement and impute as follows:"
   ]
  },
  {
   "cell_type": "code",
   "execution_count": 33,
   "metadata": {},
   "outputs": [],
   "source": [
    "kc_data.eval('sqft_basement = sqft_living - sqft_above', inplace=True)"
   ]
  },
  {
   "cell_type": "code",
   "execution_count": 31,
   "metadata": {},
   "outputs": [
    {
     "data": {
      "text/plain": [
       "id                0.00\n",
       "date              0.00\n",
       "price             0.00\n",
       "bedrooms          0.00\n",
       "bathrooms         0.00\n",
       "sqft_living       0.00\n",
       "sqft_lot          0.00\n",
       "floors            0.00\n",
       "waterfront       10.99\n",
       "view              0.29\n",
       "condition         0.00\n",
       "grade             0.00\n",
       "sqft_above        0.00\n",
       "sqft_basement     0.00\n",
       "yr_built          0.00\n",
       "yr_renovated     17.79\n",
       "zipcode           0.00\n",
       "lat               0.00\n",
       "long              0.00\n",
       "sqft_living15     0.00\n",
       "sqft_lot15        0.00\n",
       "dtype: float64"
      ]
     },
     "execution_count": 31,
     "metadata": {},
     "output_type": "execute_result"
    }
   ],
   "source": [
    "# RFT: Imputing is more successful than cleaning\n",
    "# RFT: Create imputer for the basement sqft area\n",
    "\n",
    "class BasementAreaTransformer(BaseEstimator,TransformerMixin):\n",
    "    def fit(self, X, y=None):\n",
    "        return self\n",
    "    def transform(self, X, y=None):\n",
    "        X = X.copy()\n",
    "        X.sqft_basement = X.sqft_living - X.sqft_above\n",
    "        return X\n",
    "\n",
    "#RFT:\n",
    "basement_trans = BasementAreaTransformer()\n",
    "kc_data_cleaned = basement_trans.fit_transform(kc_data_cleaned)\n",
    "round(kc_data_cleaned.isna().mean() * 100,2)"
   ]
  },
  {
   "attachments": {},
   "cell_type": "markdown",
   "metadata": {},
   "source": [
    "**Missings Values**\n",
    "Summary:\n",
    "* Fillna in view and waterfront with 0\n",
    "* Calculate last known change from yr_renovated and yr_built, preferably with a simpler and more efficient, parallelizable function\n",
    "\n"
   ]
  },
  {
   "cell_type": "code",
   "execution_count": 14,
   "metadata": {},
   "outputs": [],
   "source": [
    "# We replace Nan values in \"view\" with the most frequent expression (0)\n",
    "kc_data['view'].fillna(0, inplace=True)"
   ]
  },
  {
   "cell_type": "code",
   "execution_count": 16,
   "metadata": {},
   "outputs": [],
   "source": [
    "# We replace Nan values in \"waterfront\" with the most frequent expression (0)\n",
    "kc_data.waterfront.fillna(0, inplace=True)"
   ]
  },
  {
   "cell_type": "code",
   "execution_count": 37,
   "metadata": {},
   "outputs": [
    {
     "data": {
      "text/plain": [
       "0.0"
      ]
     },
     "execution_count": 37,
     "metadata": {},
     "output_type": "execute_result"
    }
   ],
   "source": [
    "kc_data.waterfront.mode().values[0]"
   ]
  },
  {
   "cell_type": "code",
   "execution_count": 38,
   "metadata": {},
   "outputs": [],
   "source": [
    "#REF\n",
    "class ModalImputer(BaseEstimator,TransformerMixin):\n",
    "    def __init__(self,columns=['view','waterfront']):\n",
    "        self._cols = columns\n",
    "        self._modes = dict()\n",
    "    \n",
    "    def fit(self, X, y=None):\n",
    "        for col in self._cols:\n",
    "            self._modes[col] = X[col].mode().values[0]\n",
    "        return self\n",
    "    \n",
    "    def transform(self, X, y=None):\n",
    "        X = X.copy()\n",
    "        for col in self._cols:\n",
    "            X[col].fillna(self._modes[col], inplace=True)\n",
    "        \n",
    "        return X\n",
    "    \n",
    "#REF: test\n",
    "modal_imputer = ModalImputer()\n",
    "kc_data_cleaned = modal_imputer.fit_transform(kc_data_cleaned)\n",
    "\n"
   ]
  },
  {
   "attachments": {},
   "cell_type": "markdown",
   "metadata": {},
   "source": []
  },
  {
   "cell_type": "code",
   "execution_count": 39,
   "metadata": {},
   "outputs": [
    {
     "data": {
      "text/plain": [
       "id                0.00\n",
       "date              0.00\n",
       "price             0.00\n",
       "bedrooms          0.00\n",
       "bathrooms         0.00\n",
       "sqft_living       0.00\n",
       "sqft_lot          0.00\n",
       "floors            0.00\n",
       "waterfront        0.00\n",
       "view              0.00\n",
       "condition         0.00\n",
       "grade             0.00\n",
       "sqft_above        0.00\n",
       "sqft_basement     0.00\n",
       "yr_built          0.00\n",
       "yr_renovated     17.79\n",
       "zipcode           0.00\n",
       "lat               0.00\n",
       "long              0.00\n",
       "sqft_living15     0.00\n",
       "sqft_lot15        0.00\n",
       "dtype: float64"
      ]
     },
     "execution_count": 39,
     "metadata": {},
     "output_type": "execute_result"
    }
   ],
   "source": [
    "round(kc_data_cleaned.isna().mean() * 100,2)"
   ]
  },
  {
   "cell_type": "code",
   "execution_count": 55,
   "metadata": {},
   "outputs": [
    {
     "data": {
      "text/plain": [
       "0        1955.0\n",
       "1        1991.0\n",
       "2        1933.0\n",
       "3        1965.0\n",
       "4        1987.0\n",
       "          ...  \n",
       "21592    2009.0\n",
       "21593    2014.0\n",
       "21594    2009.0\n",
       "21595    2004.0\n",
       "21596    2008.0\n",
       "Name: yr_renovated, Length: 21536, dtype: float64"
      ]
     },
     "execution_count": 55,
     "metadata": {},
     "output_type": "execute_result"
    }
   ],
   "source": [
    "mask = (kc_data_cleaned.yr_renovated.isna()) | (kc_data_cleaned.yr_renovated==0)\n",
    "kc_data_cleaned.yr_renovated.loc[~mask]\n",
    "\n",
    "kc_data_cleaned.yr_renovated.where(~mask, kc_data_cleaned.yr_built)"
   ]
  },
  {
   "cell_type": "code",
   "execution_count": 57,
   "metadata": {},
   "outputs": [],
   "source": [
    "# REF\n",
    "class LastChangeTransformer(BaseEstimator,TransformerMixin):\n",
    "    def fit(self, X, y=None):\n",
    "        return self\n",
    "    def transform(self, X, y=None):\n",
    "        X = X.copy()\n",
    "        mask = (kc_data_cleaned.yr_renovated.isna()) | (kc_data_cleaned.yr_renovated==0)\n",
    "        new_col = kc_data_cleaned.yr_renovated.where(\n",
    "            ~mask, kc_data_cleaned.yr_built).astype(int)\n",
    "        X['last_known_change'] = new_col\n",
    "        X.drop(['yr_renovated','yr_built'], axis=1, inplace=True)\n",
    "\n",
    "        return X\n"
   ]
  },
  {
   "cell_type": "code",
   "execution_count": 59,
   "metadata": {},
   "outputs": [
    {
     "data": {
      "text/plain": [
       "0        1955\n",
       "1        1991\n",
       "2        1933\n",
       "3        1965\n",
       "4        1987\n",
       "         ... \n",
       "21592    2009\n",
       "21593    2014\n",
       "21594    2009\n",
       "21595    2004\n",
       "21596    2008\n",
       "Name: last_known_change, Length: 21536, dtype: int64"
      ]
     },
     "execution_count": 59,
     "metadata": {},
     "output_type": "execute_result"
    }
   ],
   "source": [
    "   \n",
    "last_change_transformer = LastChangeTransformer()\n",
    "kc_data_cleaned_2 = last_change_transformer.fit_transform(kc_data_cleaned)\n",
    "\n",
    "kc_data_cleaned_2.last_known_change"
   ]
  },
  {
   "cell_type": "code",
   "execution_count": 19,
   "metadata": {},
   "outputs": [],
   "source": [
    "# We will create an empty list in which we will store values\n",
    "last_known_change = []\n",
    "\n",
    "# For each row in our data frame, we look at what is in the column \"yr_renovated\".\n",
    "for idx, yr_re in kc_data.yr_renovated.items():\n",
    "    # if \"yr_renovated\" is 0 or contains no value, we store the year of construction of the house in our empty listes ab\n",
    "    if str(yr_re) == 'nan' or yr_re == 0.0:\n",
    "        last_known_change.append(kc_data.yr_built[idx])\n",
    "    # if there is a value other than 0 in the column \"yr_renovated\", we transfer this value into our new list\n",
    "    else:\n",
    "        last_known_change.append(int(yr_re))\n",
    "\n",
    "# We create a new column and take over the values of our previously created list\n",
    "kc_data['last_known_change'] = last_known_change\n",
    "\n",
    "# We delete the \"yr_renovated\" and \"yr_built\" columns\n",
    "kc_data.drop(\"yr_renovated\", axis=1, inplace=True)\n",
    "kc_data.drop(\"yr_built\", axis=1, inplace=True)"
   ]
  },
  {
   "attachments": {},
   "cell_type": "markdown",
   "metadata": {},
   "source": [
    "### Exploratory Data Analysis\n",
    "\n",
    "* This section has been deleted because it is not relevant for the refactoring"
   ]
  },
  {
   "attachments": {},
   "cell_type": "markdown",
   "metadata": {},
   "source": [
    "### Feature Engineering\n",
    "\n",
    "* sqft_price is feature engineered but then later dropped, we delete this code\n",
    "* center_distance is calculated\n",
    "* distance from waterfront is calculated, although this is quite complicated code, we could use geopandas for more efficient sjoin functionalities\n",
    "* Two unnecessary variables are created: 'delta_lat', 'delta_long', which will be excluded from the refactoring\n",
    "* Some feature engineering crept into the modelling part, but this involved raising all variables to the power of 2. We will not store these features in the database because they are easily computed after the data pipeline. "
   ]
  },
  {
   "cell_type": "code",
   "execution_count": null,
   "metadata": {},
   "outputs": [],
   "source": [
    "# Absolute difference of latitude between centre and property\n",
    "kc_data['delta_lat'] = np.absolute(47.62774- kc_data['lat'])\n",
    "# Absolute difference of longitude between centre and property\n",
    "kc_data['delta_long'] = np.absolute(-122.24194-kc_data['long'])\n",
    "# Distance between centre and property\n",
    "kc_data['center_distance']= ((kc_data['delta_long']* np.cos(np.radians(47.6219)))**2 \n",
    "                                   + kc_data['delta_lat']**2)**(1/2)*2*np.pi*6378/360"
   ]
  },
  {
   "attachments": {},
   "cell_type": "markdown",
   "metadata": {},
   "source": [
    "\n",
    "**Distance to the beach promenade**"
   ]
  },
  {
   "cell_type": "code",
   "execution_count": null,
   "metadata": {},
   "outputs": [],
   "source": [
    "# This function helps us to calculate the distance between the house overlooking the seafront and the other houses.\n",
    "def dist(long, lat, ref_long, ref_lat):\n",
    "    '''dist computes the distance in km to a reference location. Input: long and lat of \n",
    "    the location of interest and ref_long and ref_lat as the long and lat of the reference location'''\n",
    "    delta_long = long - ref_long\n",
    "    delta_lat = lat - ref_lat\n",
    "    delta_long_corr = delta_long * np.cos(np.radians(ref_lat))\n",
    "    return ((delta_long_corr)**2 +(delta_lat)**2)**(1/2)*2*np.pi*6378/360"
   ]
  },
  {
   "cell_type": "code",
   "execution_count": null,
   "metadata": {},
   "outputs": [],
   "source": [
    "# All houses with \"waterfront\" are added to the list\n",
    "water_list= kc_data.query('waterfront == 1')\n",
    "water_list.head()"
   ]
  },
  {
   "cell_type": "code",
   "execution_count": null,
   "metadata": {},
   "outputs": [],
   "source": [
    "water_distance = []\n",
    "# For each row in our data frame we now calculate the distance to the seafront\n",
    "for idx, lat in kc_data.lat.iteritems():\n",
    "    ref_list = []\n",
    "    for x,y in zip(list(water_list.long), list(water_list.lat)):\n",
    "        ref_list.append(dist(kc_data.long[idx], kc_data.lat[idx],x,y).min())\n",
    "    water_distance.append(min(ref_list))"
   ]
  },
  {
   "cell_type": "code",
   "execution_count": null,
   "metadata": {},
   "outputs": [],
   "source": [
    "# wir erstellen eine neue Spalte und übernehmen die Werte unserer vorher erstellten Liste\n",
    "kc_data['water_distance'] = water_distance"
   ]
  },
  {
   "cell_type": "code",
   "execution_count": null,
   "metadata": {},
   "outputs": [],
   "source": [
    "## REF: Create center distance with geopandas\n",
    "\n",
    "from geopandas import \n",
    "from geopandas.geometries import Point\n",
    "\n",
    "class DistanceCenterTransformer(BaseEstimator,TransformerMixin):\n",
    "    def fit(self, X, y=None):\n",
    "        return self\n",
    "    \n",
    "    def transform(self, X, y=None):\n",
    "        X = X.copy()\n",
    "        #Create geodataseries from X Y where lat=y and x=long\n",
    "        gds =  \n",
    "        center = Point([47.62774,-122.24194])\n",
    "        #Calculate distance to center\n",
    "        dist = gds.distance(center)\n",
    "        X['center_distance'] = dist.astype(float)\n",
    "\n",
    "        return X\n",
    "    \n",
    "class DistanceWaterfrontTransformer(BaseEstimator,TransformerMixin):\n",
    "    def fit(self, X, y=None):\n",
    "        self._waterfront = X.query('waterfront == 1')\n",
    "        self._water_gds = # create geodataseries from xy\n",
    "        return self\n",
    "    \n",
    "    def transform(self, X, y=None):\n",
    "        X = X.copy()\n",
    "        #Create geodataseries from X Y where lat=y and x=long\n",
    "        gds =  ###\n",
    "        #Sjoin gds with nearest waterfront, keeping only waterfront geometry\n",
    "        closest_water = gds.sjoin###\n",
    "        #Calculate distance between two points of te new column\n",
    "        dist = \n",
    "        # Enter the new column\n",
    "        X['water_distance'] = dist.astype(float)\n",
    "        return X"
   ]
  },
  {
   "cell_type": "code",
   "execution_count": null,
   "metadata": {},
   "outputs": [],
   "source": [
    "from pandas.testing import assert_series_equal\n",
    "distance_center_transform = DistanceCenterTransformer()\n",
    "distance_water_transform = DistanceWaterfrontTransformer()\n",
    "\n",
    "kc_data_cleaned_2 = distance_center_transform.fit_transform(kc_data_cleaned_2)\n",
    "kc_data_cleaned_2 = distance_water_transform.fit_transform(kc_data_cleaned_2)\n",
    "\n",
    "assert_series_equal(kc_data_cleaned_2['water_distance'], kc_data['water_distance'])\n",
    "assert_series_equal(kc_data_cleaned_2['center_distance'], kc_data['center_distance'])\n"
   ]
  },
  {
   "attachments": {},
   "cell_type": "markdown",
   "metadata": {},
   "source": [
    "### Modeling\n",
    "\n",
    "* This part of the notebook has been deleted because it is not relevant for the data engineering refactoring\n"
   ]
  }
 ],
 "metadata": {
  "kernelspec": {
   "display_name": "Python 3.9.8 ('.venv': venv)",
   "language": "python",
   "name": "python3"
  },
  "language_info": {
   "codemirror_mode": {
    "name": "ipython",
    "version": 3
   },
   "file_extension": ".py",
   "mimetype": "text/x-python",
   "name": "python",
   "nbconvert_exporter": "python",
   "pygments_lexer": "ipython3",
   "version": "3.11.3"
  },
  "vscode": {
   "interpreter": {
    "hash": "fb7e7bd19e6b082abfa5136f7b755936d5cc9a5dcc8aebb1a765dc8cdd06fcd4"
   }
  }
 },
 "nbformat": 4,
 "nbformat_minor": 4
}
